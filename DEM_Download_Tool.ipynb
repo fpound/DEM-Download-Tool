{
 "cells": [
  {
   "cell_type": "code",
   "execution_count": null,
   "id": "023cc10a-1f76-40e1-80ef-849e4c33c631",
   "metadata": {},
   "outputs": [],
   "source": [
    "import geopandas as gpd\n",
    "import os\n",
    "import requests\n",
    "import rasterio\n",
    "from shapely.geometry import Polygon"
   ]
  },
  {
   "cell_type": "markdown",
   "id": "70575121-dc1d-4125-95a4-0fb08e5a2628",
   "metadata": {},
   "source": [
    "### This tool will download a DEM that matches the spatial extent of a provided shapefile or raster."
   ]
  },
  {
   "cell_type": "markdown",
   "id": "54fcd21c-f881-4c6b-9683-91ca1438582e",
   "metadata": {
    "tags": []
   },
   "source": [
    "#### Data Location and folder structure:"
   ]
  },
  {
   "cell_type": "code",
   "execution_count": null,
   "id": "25f0ba88-e78f-4e20-8083-a9e825097a41",
   "metadata": {
    "tags": []
   },
   "outputs": [],
   "source": [
    "DataFolder = input('Input (existing) folder path for Data folder structure:')   # example: 'DATA'\n",
    "\n",
    "os.chdir(DataFolder)\n",
    "dirList = ['DEM']\n",
    "for x in dirList:\n",
    "    if not os.path.isdir(x):\n",
    "        os.mkdir(x)"
   ]
  },
  {
   "cell_type": "markdown",
   "id": "008a21bd-6c6a-4961-865d-e41f1a36770a",
   "metadata": {
    "tags": []
   },
   "source": [
    "#### File input:"
   ]
  },
  {
   "cell_type": "code",
   "execution_count": null,
   "id": "d59da375-d89a-4a9b-9655-b0f1c04c711c",
   "metadata": {
    "tags": []
   },
   "outputs": [],
   "source": [
    "InputData = input('Input file path:')   # example: _SAMPLE/03_OregonDams_shp.shp"
   ]
  },
  {
   "cell_type": "markdown",
   "id": "2c3e5ace-5a3d-4791-be4c-8559364e5be6",
   "metadata": {
    "tags": []
   },
   "source": [
    "#### Definitions:"
   ]
  },
  {
   "cell_type": "code",
   "execution_count": null,
   "id": "31aede63-37c3-4695-a9c6-3d6118ca787f",
   "metadata": {},
   "outputs": [],
   "source": [
    "def makeGDF(shape_path):\n",
    "    shape_gdf = gpd.read_file(shape_path)\n",
    "    return shape_gdf\n",
    "\n",
    "\n",
    "\n",
    "def makeExtentPoly(raster_path):\n",
    "    \n",
    "    raster = rasterio.open(raster_path)\n",
    "    raster_name = os.path.splitext(raster_path)[0].split('/')[1]\n",
    "    \n",
    "    \n",
    "    left = raster.bounds[0] \n",
    "    lower = raster.bounds[1]\n",
    "    right = raster.bounds[2]\n",
    "    upper = raster.bounds[3]\n",
    "\n",
    "    # Set raster bounding box\n",
    "    raster_box = [[left, upper], [right, upper], [right, lower], [left, lower]]\n",
    "\n",
    "    # define the geometry\n",
    "    raster_poly = Polygon(raster_box)\n",
    "    d = {'name':[f'{raster_name}',], 'geometry': [raster_poly,]}\n",
    "\n",
    "    # make the geodataframe\n",
    "    raster_extent = gpd.GeoDataFrame(d, crs=str(raster.crs))\n",
    "    \n",
    "    return raster_extent\n",
    "\n",
    "\n",
    "def makeExtent(InputData):\n",
    "\n",
    "    if InputData.endswith('.shp'):\n",
    "        extent = makeGDF(InputData)\n",
    "\n",
    "    elif InputData.endswith('.tif'):\n",
    "        extent = makeExtentPoly(InputData)\n",
    "    else:\n",
    "        print(\"Data type not known. Must be a .shp or .tif\")\n",
    "    return extent\n",
    "\n",
    "\n",
    "def Download_DEM(geodataframe):\n",
    "    \n",
    "\n",
    "    xMin = round(geodataframe.total_bounds[0], 3)\n",
    "    yMin = round(geodataframe.total_bounds[1], 3)\n",
    "    xMax = round(geodataframe.total_bounds[2], 3)\n",
    "    yMax = round(geodataframe.total_bounds[3], 3)\n",
    "    boundingBox = \"{},{},{},{}\".format(xMin, yMin, xMax, yMax)\n",
    "\n",
    "\n",
    "    linkStart = \"https://tnmaccess.nationalmap.gov/api/v1/products?datasets=National%20Elevation%20Dataset%20(NED)%201/3%20arc-second&\"\n",
    "    boundingBox_forLink = \"bbox=\" + str(boundingBox)\n",
    "    linkFinish = \"&prodFormats=GeoTIFF&outputFormat=JSON\"\n",
    "    TNM_Link = linkStart + boundingBox_forLink + linkFinish\n",
    "\n",
    "    r = requests.get(TNM_Link)\n",
    "    json_data = r.json()\n",
    "    downloadList = []\n",
    "\n",
    "    for item in json_data[\"items\"]:\n",
    "        downloadList.append(item[\"downloadURL\"])\n",
    "\n",
    "    fileCounter = 1\n",
    "    RastersList = []\n",
    "\n",
    "    for downURL in downloadList:\n",
    "        fileSplit = downURL.split(\"/\")\n",
    "        fileName = fileSplit[-1]\n",
    "\n",
    "        filePath = os.path.join('DEM', fileName)\n",
    "\n",
    "        RastersList.append(filePath)\n",
    "\n",
    "        print (f'Downloading {fileName} file {fileCounter} of {len(downloadList)}')\n",
    "\n",
    "        fileDown = requests.get(downURL)\n",
    "\n",
    "        with open(filePath, 'wb') as asdf:\n",
    "            asdf.write(fileDown.content)\n",
    "        fileCounter += 1\n",
    "        \n",
    "        print ('Finished downloading')\n",
    "    \n",
    "    return RastersList\n",
    "\n",
    "\n",
    "\n"
   ]
  },
  {
   "cell_type": "markdown",
   "id": "0a289f6e-2c04-4865-9d5b-3b964f5f48e8",
   "metadata": {
    "tags": []
   },
   "source": [
    "#### Run to download DEM:"
   ]
  },
  {
   "cell_type": "code",
   "execution_count": null,
   "id": "8b335e93-1678-4e24-b4d4-bb59b40c3449",
   "metadata": {},
   "outputs": [],
   "source": [
    "extent = makeExtent(InputData)\n"
   ]
  },
  {
   "cell_type": "code",
   "execution_count": null,
   "id": "b9764e51-a45e-4c4d-980e-b5c0f32308b1",
   "metadata": {},
   "outputs": [],
   "source": [
    "Download_DEM(extent)"
   ]
  },
  {
   "cell_type": "code",
   "execution_count": null,
   "id": "90c3b335-7e36-49f1-9c68-9e13a8b440b9",
   "metadata": {},
   "outputs": [],
   "source": []
  }
 ],
 "metadata": {
  "kernelspec": {
   "display_name": "Python 3 (ipykernel)",
   "language": "python",
   "name": "python3"
  },
  "language_info": {
   "codemirror_mode": {
    "name": "ipython",
    "version": 3
   },
   "file_extension": ".py",
   "mimetype": "text/x-python",
   "name": "python",
   "nbconvert_exporter": "python",
   "pygments_lexer": "ipython3",
   "version": "3.9.10"
  }
 },
 "nbformat": 4,
 "nbformat_minor": 5
}
